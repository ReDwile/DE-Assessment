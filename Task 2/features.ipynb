{
 "cells": [
  {
   "cell_type": "code",
   "execution_count": 1,
   "id": "83bdebfb-cc86-467b-b669-8bf1fceb273c",
   "metadata": {
    "tags": []
   },
   "outputs": [],
   "source": [
    "import pandas as pd\n",
    "import json\n",
    "from datetime import datetime, timedelta"
   ]
  },
  {
   "cell_type": "code",
   "execution_count": 2,
   "id": "96f848c2-3ba5-443a-b221-6ade55ce2208",
   "metadata": {
    "tags": []
   },
   "outputs": [],
   "source": [
    "raw_data = pd.read_csv('/Users/ksysoev/Downloads/DE Assessment/data.csv', dtype={'id': 'int64', 'application_date': 'string', 'contracts': 'string'})"
   ]
  },
  {
   "cell_type": "code",
   "execution_count": 3,
   "id": "4398f73c-ae72-41c3-bb39-b2cabe51ae67",
   "metadata": {
    "tags": []
   },
   "outputs": [
    {
     "data": {
      "text/html": [
       "<div>\n",
       "<style scoped>\n",
       "    .dataframe tbody tr th:only-of-type {\n",
       "        vertical-align: middle;\n",
       "    }\n",
       "\n",
       "    .dataframe tbody tr th {\n",
       "        vertical-align: top;\n",
       "    }\n",
       "\n",
       "    .dataframe thead th {\n",
       "        text-align: right;\n",
       "    }\n",
       "</style>\n",
       "<table border=\"1\" class=\"dataframe\">\n",
       "  <thead>\n",
       "    <tr style=\"text-align: right;\">\n",
       "      <th></th>\n",
       "      <th>id</th>\n",
       "      <th>application_date</th>\n",
       "      <th>contracts</th>\n",
       "    </tr>\n",
       "  </thead>\n",
       "  <tbody>\n",
       "    <tr>\n",
       "      <th>0</th>\n",
       "      <td>2925210</td>\n",
       "      <td>2024-02-12 19:22:46.652000+00:00</td>\n",
       "      <td>&lt;NA&gt;</td>\n",
       "    </tr>\n",
       "    <tr>\n",
       "      <th>1</th>\n",
       "      <td>2925211</td>\n",
       "      <td>2024-02-12 19:24:29.135000+00:00</td>\n",
       "      <td>[{\"contract_id\": 522530, \"bank\": \"003\", \"summa...</td>\n",
       "    </tr>\n",
       "    <tr>\n",
       "      <th>2</th>\n",
       "      <td>2925212</td>\n",
       "      <td>2024-02-12 19:24:41.493000+00:00</td>\n",
       "      <td>&lt;NA&gt;</td>\n",
       "    </tr>\n",
       "    <tr>\n",
       "      <th>3</th>\n",
       "      <td>2925213</td>\n",
       "      <td>2024-02-12 19:24:29.135000+00:00</td>\n",
       "      <td>[{\"contract_id\": 522530, \"bank\": \"003\", \"summa...</td>\n",
       "    </tr>\n",
       "    <tr>\n",
       "      <th>4</th>\n",
       "      <td>2925214</td>\n",
       "      <td>2024-02-12 19:24:56.857000+00:00</td>\n",
       "      <td>&lt;NA&gt;</td>\n",
       "    </tr>\n",
       "  </tbody>\n",
       "</table>\n",
       "</div>"
      ],
      "text/plain": [
       "        id                  application_date  \\\n",
       "0  2925210  2024-02-12 19:22:46.652000+00:00   \n",
       "1  2925211  2024-02-12 19:24:29.135000+00:00   \n",
       "2  2925212  2024-02-12 19:24:41.493000+00:00   \n",
       "3  2925213  2024-02-12 19:24:29.135000+00:00   \n",
       "4  2925214  2024-02-12 19:24:56.857000+00:00   \n",
       "\n",
       "                                           contracts  \n",
       "0                                               <NA>  \n",
       "1  [{\"contract_id\": 522530, \"bank\": \"003\", \"summa...  \n",
       "2                                               <NA>  \n",
       "3  [{\"contract_id\": 522530, \"bank\": \"003\", \"summa...  \n",
       "4                                               <NA>  "
      ]
     },
     "execution_count": 3,
     "metadata": {},
     "output_type": "execute_result"
    }
   ],
   "source": [
    "raw_data.head()"
   ]
  },
  {
   "cell_type": "code",
   "execution_count": 4,
   "id": "d5f51d9a-2218-4792-927d-fa97d0482593",
   "metadata": {
    "tags": []
   },
   "outputs": [
    {
     "name": "stdout",
     "output_type": "stream",
     "text": [
      "<class 'pandas.core.frame.DataFrame'>\n",
      "RangeIndex: 1000 entries, 0 to 999\n",
      "Data columns (total 3 columns):\n",
      " #   Column            Non-Null Count  Dtype \n",
      "---  ------            --------------  ----- \n",
      " 0   id                1000 non-null   int64 \n",
      " 1   application_date  1000 non-null   string\n",
      " 2   contracts         495 non-null    string\n",
      "dtypes: int64(1), string(2)\n",
      "memory usage: 23.6 KB\n"
     ]
    }
   ],
   "source": [
    "raw_data.info()"
   ]
  },
  {
   "cell_type": "code",
   "execution_count": 5,
   "id": "61eca912-87da-4d8f-88c5-9070384932d1",
   "metadata": {
    "tags": []
   },
   "outputs": [],
   "source": [
    "def parse_contracts(contracts):\n",
    "    data = [['contract']]\n",
    "    \n",
    "    if not pd.isnull(contracts):\n",
    "        c_df = pd.json_normalize(json.loads(contracts))\n",
    "        \n",
    "        try:\n",
    "            c_df.loc[c_df['summa'] == '', 'summa'] = 0\n",
    "            c_df['summa'] = c_df['summa'].astype(int)\n",
    "\n",
    "            c_df.loc[c_df['loan_summa'] == '', 'loan_summa'] = 0\n",
    "            c_df['loan_summa'] = c_df['loan_summa'].astype(int)\n",
    "\n",
    "            c_df['contract_date'] = c_df['contract_date'].astype(str)\n",
    "            c_df['claim_date'] = c_df['claim_date'].astype(str)\n",
    "            try:\n",
    "                c_df['bank'] = c_df['bank'].astype(str)\n",
    "            except KeyError:\n",
    "                c_df['bank'] = ''\n",
    "        except ValueError: \n",
    "            pass\n",
    "    else:\n",
    "        contract = json.loads('{}')\n",
    "        c_df = pd.DataFrame(data)\n",
    "        c_df = c_df[1:]\n",
    "        c_df.reset_index(drop=True)\n",
    "        \n",
    "    return c_df"
   ]
  },
  {
   "cell_type": "code",
   "execution_count": 6,
   "id": "6259a6dc-f5fd-4de3-8c29-05f62df40c5b",
   "metadata": {
    "tags": []
   },
   "outputs": [],
   "source": [
    "def tot_claim_cnt_l180d(contracts):\n",
    "    data = parse_contracts(contracts)\n",
    "    data['filter'] = 0\n",
    "    for index, row in data.iterrows():\n",
    "        # print(index)\n",
    "        try:\n",
    "            if datetime.strptime(str(row['claim_date']),\"%d.%m.%y\") > datetime.now() - timedelta(days = 180):\n",
    "                data.iloc[index]['filter'] = 1\n",
    "        except ValueError:\n",
    "            pass\n",
    "        except KeyError:\n",
    "            print('KeyError')\n",
    "            # print(index)\n",
    "            pass\n",
    "    \n",
    "    result = 0\n",
    "    try:\n",
    "        result = data[data['filter'] == 1].nunique()['claim_id']\n",
    "    except KeyError:\n",
    "        pass\n",
    "    \n",
    "    if result == 0:\n",
    "        return -3\n",
    "    \n",
    "    return result"
   ]
  },
  {
   "cell_type": "code",
   "execution_count": 7,
   "id": "fc1a9812-7e4f-40fe-ad13-7b8b85771fcd",
   "metadata": {
    "tags": []
   },
   "outputs": [],
   "source": [
    "def disb_bank_loan_wo_tbc(contracts):\n",
    "    data = parse_contracts(contracts)\n",
    "    list1 = ['LIZ', 'LOM', 'MKO', 'SUG']\n",
    "    try:\n",
    "        data = data[(~data['bank'].isin(list1)) & (~data['bank'].isna()) & (data['contract_date'] != '')]\n",
    "    except KeyError:\n",
    "        return -3\n",
    "    \n",
    "    claims_cnt = data.nunique()['claim_id']\n",
    "    contract_cnt = data.nunique()['contract_id']\n",
    "    \n",
    "    if claims_cnt == 0:\n",
    "        return -3\n",
    "    elif contract_cnt == 0:\n",
    "        return -1\n",
    "    \n",
    "    return data['loan_summa'].sum()"
   ]
  },
  {
   "cell_type": "code",
   "execution_count": 8,
   "id": "4c8d26e0-84c2-4ed5-b9eb-f3cc1048e2a3",
   "metadata": {
    "tags": []
   },
   "outputs": [],
   "source": [
    "def day_sinlastloan(application_date, contracts):    \n",
    "    data = parse_contracts(contracts)\n",
    "\n",
    "    try:\n",
    "        data = data[data['summa'] != 0]\n",
    "        try:\n",
    "            data['contract_date'].apply(lambda x: datetime.strptime(str(x), \"%d.%m.%y\"))\n",
    "        except ValueError:\n",
    "            pass\n",
    "        data['last_contract_date'] = data['contract_date'].max()\n",
    "        try:\n",
    "            data['days_cnt'] = (datetime.strptime(str(data['last_contract_date'][0]),\"%d.%m.%y\") - datetime.fromisoformat(str(application_date)).date()).days\n",
    "        except ValueError:\n",
    "            pass\n",
    "    except KeyError:\n",
    "        return -3\n",
    "    \n",
    "    claims_cnt = data.nunique()['claim_id']\n",
    "    contract_cnt = data.nunique()['contract_id']\n",
    "    \n",
    "    if claims_cnt == 0:\n",
    "        return -3\n",
    "    elif contract_cnt == 0:\n",
    "        return -1\n",
    "    \n",
    "    return data['loan_summa'].sum()"
   ]
  },
  {
   "cell_type": "code",
   "execution_count": 9,
   "id": "0a76f927-c7ae-4ed4-a7a2-84f58a78d0be",
   "metadata": {
    "tags": []
   },
   "outputs": [],
   "source": [
    "raw_data['tot_claim_cnt_l180d'] = raw_data['contracts'].apply(lambda x: tot_claim_cnt_l180d(x))"
   ]
  },
  {
   "cell_type": "code",
   "execution_count": 10,
   "id": "55044108-2398-4662-84e7-148cfab77087",
   "metadata": {
    "tags": []
   },
   "outputs": [],
   "source": [
    "raw_data['disb_bank_loan_wo_tbc'] = raw_data['contracts'].apply(lambda x: disb_bank_loan_wo_tbc(x))"
   ]
  },
  {
   "cell_type": "code",
   "execution_count": 11,
   "id": "0a7b7dca-860b-4bca-9ac7-faeeff36231c",
   "metadata": {
    "tags": []
   },
   "outputs": [],
   "source": [
    "raw_data['day_sinlastloan'] = raw_data.apply(lambda x: day_sinlastloan(x.application_date, x.contracts), axis=1)"
   ]
  },
  {
   "cell_type": "code",
   "execution_count": 12,
   "id": "e550b835-c773-4906-8508-f4d8b8d97560",
   "metadata": {
    "tags": []
   },
   "outputs": [
    {
     "data": {
      "text/html": [
       "<div>\n",
       "<style scoped>\n",
       "    .dataframe tbody tr th:only-of-type {\n",
       "        vertical-align: middle;\n",
       "    }\n",
       "\n",
       "    .dataframe tbody tr th {\n",
       "        vertical-align: top;\n",
       "    }\n",
       "\n",
       "    .dataframe thead th {\n",
       "        text-align: right;\n",
       "    }\n",
       "</style>\n",
       "<table border=\"1\" class=\"dataframe\">\n",
       "  <thead>\n",
       "    <tr style=\"text-align: right;\">\n",
       "      <th></th>\n",
       "      <th>id</th>\n",
       "      <th>application_date</th>\n",
       "      <th>contracts</th>\n",
       "      <th>tot_claim_cnt_l180d</th>\n",
       "      <th>disb_bank_loan_wo_tbc</th>\n",
       "      <th>day_sinlastloan</th>\n",
       "    </tr>\n",
       "  </thead>\n",
       "  <tbody>\n",
       "    <tr>\n",
       "      <th>0</th>\n",
       "      <td>2925210</td>\n",
       "      <td>2024-02-12 19:22:46.652000+00:00</td>\n",
       "      <td>&lt;NA&gt;</td>\n",
       "      <td>-3</td>\n",
       "      <td>-3</td>\n",
       "      <td>-3</td>\n",
       "    </tr>\n",
       "    <tr>\n",
       "      <th>1</th>\n",
       "      <td>2925211</td>\n",
       "      <td>2024-02-12 19:24:29.135000+00:00</td>\n",
       "      <td>[{\"contract_id\": 522530, \"bank\": \"003\", \"summa...</td>\n",
       "      <td>-3</td>\n",
       "      <td>0</td>\n",
       "      <td>0</td>\n",
       "    </tr>\n",
       "    <tr>\n",
       "      <th>2</th>\n",
       "      <td>2925212</td>\n",
       "      <td>2024-02-12 19:24:41.493000+00:00</td>\n",
       "      <td>&lt;NA&gt;</td>\n",
       "      <td>-3</td>\n",
       "      <td>-3</td>\n",
       "      <td>-3</td>\n",
       "    </tr>\n",
       "    <tr>\n",
       "      <th>3</th>\n",
       "      <td>2925213</td>\n",
       "      <td>2024-02-12 19:24:29.135000+00:00</td>\n",
       "      <td>[{\"contract_id\": 522530, \"bank\": \"003\", \"summa...</td>\n",
       "      <td>-3</td>\n",
       "      <td>0</td>\n",
       "      <td>0</td>\n",
       "    </tr>\n",
       "    <tr>\n",
       "      <th>4</th>\n",
       "      <td>2925214</td>\n",
       "      <td>2024-02-12 19:24:56.857000+00:00</td>\n",
       "      <td>&lt;NA&gt;</td>\n",
       "      <td>-3</td>\n",
       "      <td>-3</td>\n",
       "      <td>-3</td>\n",
       "    </tr>\n",
       "  </tbody>\n",
       "</table>\n",
       "</div>"
      ],
      "text/plain": [
       "        id                  application_date  \\\n",
       "0  2925210  2024-02-12 19:22:46.652000+00:00   \n",
       "1  2925211  2024-02-12 19:24:29.135000+00:00   \n",
       "2  2925212  2024-02-12 19:24:41.493000+00:00   \n",
       "3  2925213  2024-02-12 19:24:29.135000+00:00   \n",
       "4  2925214  2024-02-12 19:24:56.857000+00:00   \n",
       "\n",
       "                                           contracts  tot_claim_cnt_l180d  \\\n",
       "0                                               <NA>                   -3   \n",
       "1  [{\"contract_id\": 522530, \"bank\": \"003\", \"summa...                   -3   \n",
       "2                                               <NA>                   -3   \n",
       "3  [{\"contract_id\": 522530, \"bank\": \"003\", \"summa...                   -3   \n",
       "4                                               <NA>                   -3   \n",
       "\n",
       "   disb_bank_loan_wo_tbc  day_sinlastloan  \n",
       "0                     -3               -3  \n",
       "1                      0                0  \n",
       "2                     -3               -3  \n",
       "3                      0                0  \n",
       "4                     -3               -3  "
      ]
     },
     "execution_count": 12,
     "metadata": {},
     "output_type": "execute_result"
    }
   ],
   "source": [
    "raw_data.head()"
   ]
  }
 ],
 "metadata": {
  "kernelspec": {
   "display_name": "Python 3 (ipykernel)",
   "language": "python",
   "name": "python3"
  },
  "language_info": {
   "codemirror_mode": {
    "name": "ipython",
    "version": 3
   },
   "file_extension": ".py",
   "mimetype": "text/x-python",
   "name": "python",
   "nbconvert_exporter": "python",
   "pygments_lexer": "ipython3",
   "version": "3.11.4"
  }
 },
 "nbformat": 4,
 "nbformat_minor": 5
}
